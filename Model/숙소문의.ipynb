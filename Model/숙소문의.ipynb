{
 "cells": [
  {
   "cell_type": "code",
   "execution_count": 44,
   "id": "6d4ca134-4ac3-42a3-a50a-cfcac583eeca",
   "metadata": {},
   "outputs": [],
   "source": [
    "import pandas as pd\n",
    "from sklearn.model_selection import train_test_split\n",
    "from sklearn.feature_extraction.text import TfidfVectorizer\n",
    "from sklearn.linear_model import LogisticRegression\n",
    "from sklearn.preprocessing import StandardScaler\n",
    "from sklearn.pipeline import make_pipeline\n",
    "from sklearn.metrics import classification_report, accuracy_score\n",
    "from sklearn.naive_bayes import MultinomialNB\n",
    "import matplotlib.pyplot as plt\n",
    "import seaborn as sns\n",
    "from sklearn.metrics import confusion_matrix, ConfusionMatrixDisplay, classification_report\n",
    "from sklearn.preprocessing import LabelEncoder\n",
    "from xgboost import XGBClassifier\n",
    "from sklearn.ensemble import RandomForestClassifier\n",
    "from imblearn.over_sampling import SMOTE\n",
    "import pandas as pd\n",
    "from matplotlib import rc\n",
    "import numpy as np\n",
    "import warnings\n",
    "warnings.filterwarnings('ignore')\n",
    "import seaborn as sns\n",
    "import re, string\n",
    "from wordcloud import WordCloud, STOPWORDS\n",
    "from sklearn.metrics import accuracy_score, classification_report\n",
    "import joblib\n",
    "\n",
    "rc('font', family='Malgun Gothic')\n",
    "rc('axes', unicode_minus=False)"
   ]
  },
  {
   "cell_type": "markdown",
   "id": "df3eff86-7768-4bc4-a9c2-9fb42ebe2398",
   "metadata": {},
   "source": [
    "## 추가 코드"
   ]
  },
  {
   "cell_type": "code",
   "execution_count": 45,
   "id": "61bd1862-66ca-4b05-a9fe-d70c47b2d298",
   "metadata": {},
   "outputs": [
    {
     "name": "stdout",
     "output_type": "stream",
     "text": [
      "                   질문   라벨링\n",
      "0   반려동물을 데리고 와도 되나요?  반려동물\n",
      "1    애완동물을 동반할 수 있나요?  반려동물\n",
      "2  반려동물과 함께 숙박 가능한가요?  반려동물\n",
      "3     애완동물 입장이 허용되나요?  반려동물\n",
      "4     반려동물 출입이 가능한지요?  반려동물\n"
     ]
    }
   ],
   "source": [
    "import pandas as pd\n",
    "import random\n",
    "\n",
    "df = pd.read_csv('DATA/챗봇_숙소문의.csv')\n",
    "\n",
    "def shuffle_sentence(sentence):\n",
    "    words = sentence.split()\n",
    "    if len(words) > 1:\n",
    "        random.shuffle(words) \n",
    "    return ' '.join(words)\n",
    "\n",
    "def swap_words_within_same_label(df, label):\n",
    "    same_label_questions = df[df['라벨링'] == label]['질문'].tolist()\n",
    "    \n",
    "    augmented_sentences = []\n",
    "    for sentence in same_label_questions:\n",
    "        words = sentence.split()\n",
    "        if len(words) > 1:\n",
    "            random.shuffle(words) \n",
    "        augmented_sentences.append(' '.join(words))\n",
    "    \n",
    "    return augmented_sentences\n",
    "\n",
    "augmented_data = []\n",
    "\n",
    "for label in df['라벨링'].unique():\n",
    "    augmented_sentences = swap_words_within_same_label(df, label)\n",
    "    \n",
    "    for sentence in augmented_sentences:\n",
    "        augmented_data.append({'질문': sentence, '라벨링': label})\n",
    "\n",
    "augmented_df = pd.DataFrame(augmented_data)\n",
    "\n",
    "combined_df = pd.concat([df, augmented_df])\n",
    "\n",
    "if 'Unnamed: 2' in combined_df.columns:\n",
    "    combined_df = combined_df.drop(columns=['Unnamed: 2'])\n",
    "    \n",
    "combined_df.to_csv('augmented_questions.csv', index=False, encoding='utf-8')\n",
    "\n",
    "print(combined_df.head())"
   ]
  },
  {
   "cell_type": "code",
   "execution_count": 46,
   "id": "8dc0312d-9505-41f1-8549-d529e33fa937",
   "metadata": {},
   "outputs": [
    {
     "data": {
      "text/html": [
       "<div>\n",
       "<style scoped>\n",
       "    .dataframe tbody tr th:only-of-type {\n",
       "        vertical-align: middle;\n",
       "    }\n",
       "\n",
       "    .dataframe tbody tr th {\n",
       "        vertical-align: top;\n",
       "    }\n",
       "\n",
       "    .dataframe thead th {\n",
       "        text-align: right;\n",
       "    }\n",
       "</style>\n",
       "<table border=\"1\" class=\"dataframe\">\n",
       "  <thead>\n",
       "    <tr style=\"text-align: right;\">\n",
       "      <th></th>\n",
       "      <th>질문</th>\n",
       "      <th>라벨링</th>\n",
       "    </tr>\n",
       "  </thead>\n",
       "  <tbody>\n",
       "    <tr>\n",
       "      <th>0</th>\n",
       "      <td>반려동물을 데리고 와도 되나요?</td>\n",
       "      <td>반려동물</td>\n",
       "    </tr>\n",
       "    <tr>\n",
       "      <th>1</th>\n",
       "      <td>애완동물을 동반할 수 있나요?</td>\n",
       "      <td>반려동물</td>\n",
       "    </tr>\n",
       "    <tr>\n",
       "      <th>2</th>\n",
       "      <td>반려동물과 함께 숙박 가능한가요?</td>\n",
       "      <td>반려동물</td>\n",
       "    </tr>\n",
       "    <tr>\n",
       "      <th>3</th>\n",
       "      <td>애완동물 입장이 허용되나요?</td>\n",
       "      <td>반려동물</td>\n",
       "    </tr>\n",
       "    <tr>\n",
       "      <th>4</th>\n",
       "      <td>반려동물 출입이 가능한지요?</td>\n",
       "      <td>반려동물</td>\n",
       "    </tr>\n",
       "    <tr>\n",
       "      <th>...</th>\n",
       "      <td>...</td>\n",
       "      <td>...</td>\n",
       "    </tr>\n",
       "    <tr>\n",
       "      <th>1130</th>\n",
       "      <td>있나요? 체크인 할 조기 수</td>\n",
       "      <td>체크인</td>\n",
       "    </tr>\n",
       "    <tr>\n",
       "      <th>1131</th>\n",
       "      <td>일찍 있나요? 체크인을 할 수</td>\n",
       "      <td>체크인</td>\n",
       "    </tr>\n",
       "    <tr>\n",
       "      <th>1132</th>\n",
       "      <td>허용되나요? 얼리 체크인이</td>\n",
       "      <td>체크인</td>\n",
       "    </tr>\n",
       "    <tr>\n",
       "      <th>1133</th>\n",
       "      <td>가능합니까? 체크인 일찍</td>\n",
       "      <td>체크인</td>\n",
       "    </tr>\n",
       "    <tr>\n",
       "      <th>1134</th>\n",
       "      <td>될까요? 일찍가도 조금</td>\n",
       "      <td>체크인</td>\n",
       "    </tr>\n",
       "  </tbody>\n",
       "</table>\n",
       "<p>2270 rows × 2 columns</p>\n",
       "</div>"
      ],
      "text/plain": [
       "                      질문   라벨링\n",
       "0      반려동물을 데리고 와도 되나요?  반려동물\n",
       "1       애완동물을 동반할 수 있나요?  반려동물\n",
       "2     반려동물과 함께 숙박 가능한가요?  반려동물\n",
       "3        애완동물 입장이 허용되나요?  반려동물\n",
       "4        반려동물 출입이 가능한지요?  반려동물\n",
       "...                  ...   ...\n",
       "1130     있나요? 체크인 할 조기 수   체크인\n",
       "1131    일찍 있나요? 체크인을 할 수   체크인\n",
       "1132      허용되나요? 얼리 체크인이   체크인\n",
       "1133       가능합니까? 체크인 일찍   체크인\n",
       "1134        될까요? 일찍가도 조금   체크인\n",
       "\n",
       "[2270 rows x 2 columns]"
      ]
     },
     "execution_count": 46,
     "metadata": {},
     "output_type": "execute_result"
    }
   ],
   "source": [
    "combined_df"
   ]
  },
  {
   "cell_type": "code",
   "execution_count": 47,
   "id": "c71d91aa-b479-49bc-bf77-f2ed376d0369",
   "metadata": {},
   "outputs": [],
   "source": [
    "import pandas as pd\n",
    "from sklearn.model_selection import train_test_split\n",
    "from sklearn.preprocessing import LabelEncoder\n",
    "from transformers import BertTokenizer\n",
    "\n",
    "label_encoder = LabelEncoder()\n",
    "combined_df['라벨링'] = label_encoder.fit_transform(combined_df['라벨링'])\n",
    "\n",
    "X_train, X_test, y_train, y_test = train_test_split(combined_df['질문'], combined_df['라벨링'], test_size=0.2, random_state=42)\n",
    "\n",
    "tokenizer = BertTokenizer.from_pretrained('bert-base-uncased')\n",
    "\n",
    "def tokenize_data(sentences, max_length=128):\n",
    "    return tokenizer(\n",
    "        sentences.tolist(),\n",
    "        padding=True,\n",
    "        truncation=True,\n",
    "        return_tensors=\"pt\",\n",
    "        max_length=max_length\n",
    "    )\n",
    "\n",
    "X_train_tokenized = tokenize_data(X_train)\n",
    "X_test_tokenized = tokenize_data(X_test)\n",
    "\n",
    "y_train = y_train.values\n",
    "y_test = y_test.values"
   ]
  },
  {
   "cell_type": "code",
   "execution_count": null,
   "id": "2f327a38",
   "metadata": {},
   "outputs": [],
   "source": [
    "import torch\n",
    "from torch.utils.data import Dataset\n",
    "from transformers import BertTokenizer, BertForSequenceClassification, Trainer, TrainingArguments, DataCollatorWithPadding\n",
    "import warnings\n",
    "warnings.filterwarnings('ignore')\n",
    "\n",
    "class CustomDataset(Dataset):\n",
    "    def __init__(self, texts, labels, tokenizer, max_length=128):\n",
    "        self.texts = texts\n",
    "        self.labels = labels\n",
    "        self.tokenizer = tokenizer\n",
    "        self.max_length = max_length\n",
    "    \n",
    "    def __len__(self):\n",
    "        return len(self.texts)\n",
    "\n",
    "    def __getitem__(self, idx):\n",
    "        inputs = self.tokenizer(\n",
    "            self.texts[idx],\n",
    "            truncation=True,\n",
    "            padding='max_length',\n",
    "            max_length=self.max_length,\n",
    "            return_tensors=\"pt\",\n",
    "        )\n",
    "                \n",
    "        input_ids = inputs['input_ids'].squeeze(0) \n",
    "        attention_mask = inputs['attention_mask'].squeeze(0)\n",
    "        \n",
    "        label = torch.tensor(self.labels[idx], dtype=torch.long)\n",
    "        \n",
    "        return {\n",
    "            'input_ids': input_ids,\n",
    "            'attention_mask': attention_mask,\n",
    "            'labels': label\n",
    "        }\n",
    "\n",
    "tokenizer = BertTokenizer.from_pretrained('bert-base-uncased')\n",
    "\n",
    "train_dataset = CustomDataset(X_train.tolist(), y_train.tolist(), tokenizer)\n",
    "test_dataset = CustomDataset(X_test.tolist(), y_test.tolist(), tokenizer)\n",
    "\n",
    "data_collator = DataCollatorWithPadding(tokenizer=tokenizer)\n",
    "\n",
    "model = BertForSequenceClassification.from_pretrained('bert-base-uncased', num_labels=len(label_encoder.classes_))\n",
    "\n",
    "training_args = TrainingArguments(\n",
    "    output_dir='./results',\n",
    "    num_train_epochs=3,\n",
    "    per_device_train_batch_size=16,\n",
    "    per_device_eval_batch_size=64,\n",
    "    warmup_steps=500,\n",
    "    weight_decay=0.01,\n",
    "    logging_dir='./logs',\n",
    "    logging_steps=10,\n",
    "    evaluation_strategy=\"epoch\"\n",
    ")\n",
    "\n",
    "trainer = Trainer(\n",
    "    model=model,\n",
    "    args=training_args,\n",
    "    train_dataset=train_dataset,\n",
    "    eval_dataset=test_dataset,\n",
    "    data_collator=data_collator, \n",
    "    tokenizer=tokenizer\n",
    ")\n",
    "\n",
    "trainer.train()"
   ]
  },
  {
   "cell_type": "code",
   "execution_count": 74,
   "id": "5854309b-68dd-47a3-8018-a707a9de5110",
   "metadata": {},
   "outputs": [
    {
     "name": "stdout",
     "output_type": "stream",
     "text": [
      "질문: 숙소 주변에 주차할 공간이 있나요?, 예측된 라벨: 주차\n"
     ]
    }
   ],
   "source": [
    "def predict_question(question):\n",
    "    inputs = tokenizer(question, return_tensors=\"pt\", padding=True, truncation=True, max_length=128)\n",
    "    with torch.no_grad():\n",
    "        outputs = model(**inputs)\n",
    "    predicted_class = torch.argmax(outputs.logits, dim=1).item()\n",
    "    \n",
    "    predicted_label = label_encoder.inverse_transform([predicted_class])\n",
    "    return predicted_label[0]\n",
    "\n",
    "test_question = \"숙소 주변에 주차할 공간이 있나요?\"\n",
    "print(f\"질문: {test_question}, 예측된 라벨: {predict_question(test_question)}\")"
   ]
  },
  {
   "cell_type": "code",
   "execution_count": 75,
   "id": "72f1c6d0-7a8a-4b0e-b0d3-a30b48e545dc",
   "metadata": {},
   "outputs": [
    {
     "name": "stdout",
     "output_type": "stream",
     "text": [
      "질문: 실내 취식이 가능한가요?, 예측된 라벨: 실내취식\n"
     ]
    }
   ],
   "source": [
    "def predict_question(question):\n",
    "    inputs = tokenizer(question, return_tensors=\"pt\", padding=True, truncation=True, max_length=128)\n",
    "    with torch.no_grad():\n",
    "        outputs = model(**inputs)\n",
    "    predicted_class = torch.argmax(outputs.logits, dim=1).item()\n",
    "    \n",
    "    predicted_label = label_encoder.inverse_transform([predicted_class])\n",
    "    return predicted_label[0]\n",
    "\n",
    "test_question = \"실내 취식이 가능한가요?\"\n",
    "print(f\"질문: {test_question}, 예측된 라벨: {predict_question(test_question)}\")"
   ]
  },
  {
   "cell_type": "code",
   "execution_count": 76,
   "id": "e10e5840-a32c-48e4-afca-2a30e49f66f7",
   "metadata": {},
   "outputs": [
    {
     "name": "stdout",
     "output_type": "stream",
     "text": [
      "질문: 체크인시간보다 일찍 가도 되나요?, 예측된 라벨: 얼리 체크인\n"
     ]
    }
   ],
   "source": [
    "def predict_question(question):\n",
    "    inputs = tokenizer(question, return_tensors=\"pt\", padding=True, truncation=True, max_length=128)\n",
    "    with torch.no_grad():\n",
    "        outputs = model(**inputs)\n",
    "    predicted_class = torch.argmax(outputs.logits, dim=1).item()\n",
    "    \n",
    "    predicted_label = label_encoder.inverse_transform([predicted_class])\n",
    "    return predicted_label[0]\n",
    "\n",
    "test_question = \"체크인시간보다 일찍 가도 되나요?\"\n",
    "print(f\"질문: {test_question}, 예측된 라벨: {predict_question(test_question)}\")"
   ]
  },
  {
   "cell_type": "code",
   "execution_count": 10,
   "id": "a402424f-73bc-41cd-86ec-1464183df523",
   "metadata": {},
   "outputs": [],
   "source": [
    "data = pd.read_csv('augmented_questions.csv') "
   ]
  },
  {
   "cell_type": "code",
   "execution_count": 31,
   "id": "6c1cefc8-2b5e-4d70-9904-d289e885fc9b",
   "metadata": {},
   "outputs": [],
   "source": [
    "model_path = '/Users/jeon-yewon/Downloads/코드 정리/3. 모델_chatbot/Model/질문 분류'\n",
    "model = BertForSequenceClassification.from_pretrained(model_path)\n",
    "tokenizer = BertTokenizer.from_pretrained(model_path)\n"
   ]
  },
  {
   "cell_type": "code",
   "execution_count": 32,
   "id": "f6a73fbb-9efe-4d35-b64e-633a13fedc60",
   "metadata": {
    "scrolled": true
   },
   "outputs": [
    {
     "data": {
      "text/plain": [
       "['Model/질문 분류/label_encoder.pkl']"
      ]
     },
     "execution_count": 32,
     "metadata": {},
     "output_type": "execute_result"
    }
   ],
   "source": [
    "label_encoder = LabelEncoder()\n",
    "data['encoded_labels'] = label_encoder.fit_transform(data['라벨링'])\n",
    "\n",
    "label_encoder_path = 'Model/질문 분류/label_encoder.pkl'\n",
    "joblib.dump(label_encoder, label_encoder_path)"
   ]
  },
  {
   "cell_type": "code",
   "execution_count": 33,
   "id": "508bb5f6-8383-4f46-bbf6-3e99a7540088",
   "metadata": {},
   "outputs": [
    {
     "data": {
      "text/html": [
       "<div>\n",
       "<style scoped>\n",
       "    .dataframe tbody tr th:only-of-type {\n",
       "        vertical-align: middle;\n",
       "    }\n",
       "\n",
       "    .dataframe tbody tr th {\n",
       "        vertical-align: top;\n",
       "    }\n",
       "\n",
       "    .dataframe thead th {\n",
       "        text-align: right;\n",
       "    }\n",
       "</style>\n",
       "<table border=\"1\" class=\"dataframe\">\n",
       "  <thead>\n",
       "    <tr style=\"text-align: right;\">\n",
       "      <th></th>\n",
       "      <th>질문</th>\n",
       "      <th>라벨링</th>\n",
       "      <th>encoded_labels</th>\n",
       "    </tr>\n",
       "  </thead>\n",
       "  <tbody>\n",
       "    <tr>\n",
       "      <th>0</th>\n",
       "      <td>반려동물을 데리고 와도 되나요?</td>\n",
       "      <td>반려동물</td>\n",
       "      <td>4</td>\n",
       "    </tr>\n",
       "    <tr>\n",
       "      <th>1</th>\n",
       "      <td>애완동물을 동반할 수 있나요?</td>\n",
       "      <td>반려동물</td>\n",
       "      <td>4</td>\n",
       "    </tr>\n",
       "    <tr>\n",
       "      <th>2</th>\n",
       "      <td>반려동물과 함께 숙박 가능한가요?</td>\n",
       "      <td>반려동물</td>\n",
       "      <td>4</td>\n",
       "    </tr>\n",
       "    <tr>\n",
       "      <th>3</th>\n",
       "      <td>애완동물 입장이 허용되나요?</td>\n",
       "      <td>반려동물</td>\n",
       "      <td>4</td>\n",
       "    </tr>\n",
       "    <tr>\n",
       "      <th>4</th>\n",
       "      <td>반려동물 출입이 가능한지요?</td>\n",
       "      <td>반려동물</td>\n",
       "      <td>4</td>\n",
       "    </tr>\n",
       "  </tbody>\n",
       "</table>\n",
       "</div>"
      ],
      "text/plain": [
       "                   질문   라벨링  encoded_labels\n",
       "0   반려동물을 데리고 와도 되나요?  반려동물               4\n",
       "1    애완동물을 동반할 수 있나요?  반려동물               4\n",
       "2  반려동물과 함께 숙박 가능한가요?  반려동물               4\n",
       "3     애완동물 입장이 허용되나요?  반려동물               4\n",
       "4     반려동물 출입이 가능한지요?  반려동물               4"
      ]
     },
     "execution_count": 33,
     "metadata": {},
     "output_type": "execute_result"
    }
   ],
   "source": [
    "data.head()"
   ]
  },
  {
   "cell_type": "code",
   "execution_count": 36,
   "id": "a3d9a7b6-3fcc-4085-9a3d-2d666daaa83f",
   "metadata": {},
   "outputs": [
    {
     "data": {
      "text/plain": [
       "array(['반려동물', '세탁시설', '침구추가', '얼리 체크인', '지하철', '조리도구', '맛집', '세면도구',\n",
       "       '수건제공', '조식', '주차', '실내취식', '관광지 추천', '짐 보관', '청소', '칫솔', 'OTT',\n",
       "       '소음', '바다', '치안', '수건', '취식', '체크인', nan], dtype=object)"
      ]
     },
     "execution_count": 36,
     "metadata": {},
     "output_type": "execute_result"
    }
   ],
   "source": [
    "df['카테고리'].unique()"
   ]
  },
  {
   "cell_type": "code",
   "execution_count": 43,
   "id": "705ca38f-0c3f-4b61-bcad-3b14fabd6a88",
   "metadata": {},
   "outputs": [
    {
     "name": "stdout",
     "output_type": "stream",
     "text": [
      "질문: 키우는 강아지를 데려가도 되나요?, 예측된 라벨: 반려동물\n"
     ]
    }
   ],
   "source": [
    "def predict_question(question):\n",
    "    inputs = tokenizer(question, return_tensors=\"pt\", padding=True, truncation=True, max_length=128)\n",
    "    \n",
    "    with torch.no_grad():\n",
    "        outputs = model(**inputs)\n",
    "    \n",
    "    predicted_class = torch.argmax(outputs.logits, dim=1).item()\n",
    "    \n",
    "    predicted_label = label_encoder.inverse_transform([predicted_class])\n",
    "    \n",
    "    return predicted_label[0]\n",
    "\n",
    "test_question = \"키우는 강아지를 데려가도 되나요?\"\n",
    "print(f\"질문: {test_question}, 예측된 라벨: {predict_question(test_question)}\")"
   ]
  },
  {
   "cell_type": "code",
   "execution_count": 41,
   "id": "48c82c67-c9bc-4cdb-b9fd-fb8294a117cf",
   "metadata": {},
   "outputs": [
    {
     "name": "stdout",
     "output_type": "stream",
     "text": [
      "질문: 인원이 많아서 이불 추가 가능할까요?, 예측된 라벨: 침구추가\n"
     ]
    }
   ],
   "source": [
    "test_question = \"인원이 많아서 이불 추가 가능할까요?\"\n",
    "print(f\"질문: {test_question}, 예측된 라벨: {predict_question(test_question)}\")"
   ]
  },
  {
   "cell_type": "code",
   "execution_count": null,
   "id": "7d45bf16",
   "metadata": {},
   "outputs": [],
   "source": []
  }
 ],
 "metadata": {
  "kernelspec": {
   "display_name": "tensorflow",
   "language": "python",
   "name": "tensorflow"
  },
  "language_info": {
   "codemirror_mode": {
    "name": "ipython",
    "version": 3
   },
   "file_extension": ".py",
   "mimetype": "text/x-python",
   "name": "python",
   "nbconvert_exporter": "python",
   "pygments_lexer": "ipython3",
   "version": "3.10.14"
  }
 },
 "nbformat": 4,
 "nbformat_minor": 5
}
