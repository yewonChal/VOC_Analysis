{
 "cells": [
  {
   "cell_type": "code",
   "execution_count": 10,
   "id": "6187ebf5-c030-40e4-b899-0511bf66613a",
   "metadata": {},
   "outputs": [],
   "source": [
    "import matplotlib.pyplot as plt\n",
    "import pandas as pd\n",
    "from matplotlib import rc\n",
    "import numpy as np\n",
    "import warnings\n",
    "warnings.filterwarnings('ignore')\n",
    "import seaborn as sns\n",
    "import re\n",
    "from wordcloud import WordCloud, STOPWORDS\n",
    "from konlpy.tag import Okt\n",
    "\n",
    "rc('font', family='Malgun Gothic')\n",
    "rc('axes', unicode_minus=False)"
   ]
  },
  {
   "cell_type": "code",
   "execution_count": 11,
   "id": "8b799cbc-4ac1-47eb-a058-6323e2f9f2c0",
   "metadata": {},
   "outputs": [
    {
     "name": "stdout",
     "output_type": "stream",
     "text": [
      "['id', '가입기간', '평점 및 날짜', '리뷰', '번역여부', '호스트', '답글 날짜', '답글', '게스트 선호', '슈퍼 호스트', '카테고리']\n"
     ]
    }
   ],
   "source": [
    "import csv\n",
    "f = open('DATA/제주_clean.csv', 'r', encoding='utf-8')\n",
    "lines = csv.reader(f)\n",
    "header = next(lines)\n",
    "print(header)\n",
    "f.close()"
   ]
  },
  {
   "cell_type": "code",
   "execution_count": 12,
   "id": "b3cf722a-7f36-4936-a603-7c5714572c2a",
   "metadata": {},
   "outputs": [],
   "source": [
    "# 데이터 불러오기\n",
    "df = pd.read_csv('DATA/제주_clean.csv', encoding='utf-8')"
   ]
  },
  {
   "cell_type": "markdown",
   "id": "fc4bf434-22d7-4c7b-8a47-3a1d5fe15da7",
   "metadata": {},
   "source": [
    "# 형태소 추출 및 불용어 제거"
   ]
  },
  {
   "cell_type": "code",
   "execution_count": null,
   "id": "9b1d96a0",
   "metadata": {},
   "outputs": [],
   "source": [
    "# stopwords 데이터 가져오기\n",
    "with open('stopwords-ko.txt', 'r', encoding='utf-8') as file:\n",
    "    stopwords = file.read().splitlines()\n",
    "    \n",
    "df['리뷰'] = df['리뷰'].astype(str)\n",
    "\n",
    "# 불용어 제거 함수 정의\n",
    "def remove_stopwords(text, stop_words):\n",
    "    okt = Okt()\n",
    "    tokens = okt.morphs(text)  # 텍스트를 형태소 단위로 나눕니다.\n",
    "    filtered_tokens = [word for word in tokens if word not in stop_words]  # 불용어를 제거합니다.\n",
    "    return ' '.join(filtered_tokens)\n",
    "\n",
    "df['형태소'] = df['리뷰'].apply(lambda x: remove_stopwords(x, stopwords))\n",
    "\n",
    "# 결과를 저장하거나, 분석된 데이터를 확인할 수 있습니다.\n",
    "output_file_path = 'jeju_morphs.csv'\n",
    "df.to_csv(output_file_path, index=False)\n",
    "\n",
    "# 형태소 분석된 데이터 미리보기\n",
    "print('저장완료')"
   ]
  },
  {
   "cell_type": "markdown",
   "id": "9dbd0270-f7d7-4b1c-b73e-53dc11d1ac50",
   "metadata": {},
   "source": [
    "# 일반 명사, 어근, 형용사, 일반 부사 추출 및 불용어 제거"
   ]
  },
  {
   "cell_type": "code",
   "execution_count": null,
   "id": "b64367f4",
   "metadata": {},
   "outputs": [],
   "source": [
    "with open('stopwords-ko.txt', 'r', encoding='utf-8') as file:\n",
    "    stopwords = file.read().splitlines()\n",
    "    \n",
    "df['리뷰'] = df['리뷰'].astype(str)\n",
    "\n",
    "# 형태소 분석기 초기화\n",
    "okt = Okt()\n",
    "\n",
    "# 필요한 품사만 필터링하는 함수 정의\n",
    "def extract_selected_pos(text):\n",
    "    # 형태소 분석 후 품사 태깅\n",
    "    pos_result = okt.pos(text)\n",
    "    # 필터링할 품사\n",
    "    selected_pos = ['Noun', 'VerbStem', 'Adjective', 'Adverb']\n",
    "    # 필터링된 결과만 추출\n",
    "    filtered_words = [word for word, tag in pos_result if tag in selected_pos]\n",
    "    # 불용어 제거\n",
    "    filtered_words = [word for word in filtered_words if word not in stopwords]\n",
    "    # 단어들을 공백으로 연결하여 한 줄의 문자열로 반환\n",
    "    return ' '.join(filtered_words)\n",
    "\n",
    "# 리뷰 텍스트에서 필터링된 단어 추출\n",
    "df['filtered_words'] = df['리뷰'].apply(extract_selected_pos)\n",
    "\n",
    "# 결과를 저장하거나, 분석된 데이터를 확인할 수 있습니다.\n",
    "output_file_path = 'jeju_filtered_words.csv'\n",
    "df.to_csv(output_file_path, index=False)\n",
    "\n",
    "# 필터링된 단어 리스트 미리보기\n",
    "print('저장완료')"
   ]
  },
  {
   "cell_type": "markdown",
   "id": "8717af84-9891-44cc-9cd0-9806432ce930",
   "metadata": {},
   "source": [
    "-----------------------------------------------------------------------------------------------------------------------------"
   ]
  }
 ],
 "metadata": {
  "kernelspec": {
   "display_name": "tensorflow",
   "language": "python",
   "name": "tensorflow"
  },
  "language_info": {
   "codemirror_mode": {
    "name": "ipython",
    "version": 3
   },
   "file_extension": ".py",
   "mimetype": "text/x-python",
   "name": "python",
   "nbconvert_exporter": "python",
   "pygments_lexer": "ipython3",
   "version": "3.10.14"
  }
 },
 "nbformat": 4,
 "nbformat_minor": 5
}
